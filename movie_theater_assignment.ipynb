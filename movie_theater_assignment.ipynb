{
  "nbformat": 4,
  "nbformat_minor": 0,
  "metadata": {
    "colab": {
      "provenance": [],
      "authorship_tag": "ABX9TyMb2TSK7y2u//peccusARVi",
      "include_colab_link": true
    },
    "kernelspec": {
      "name": "python3",
      "display_name": "Python 3"
    },
    "language_info": {
      "name": "python"
    }
  },
  "cells": [
    {
      "cell_type": "markdown",
      "metadata": {
        "id": "view-in-github",
        "colab_type": "text"
      },
      "source": [
        "<a href=\"https://colab.research.google.com/github/sydneyxmyers/BTE320/blob/main/movie_theater_assignment.ipynb\" target=\"_parent\"><img src=\"https://colab.research.google.com/assets/colab-badge.svg\" alt=\"Open In Colab\"/></a>"
      ]
    },
    {
      "cell_type": "code",
      "execution_count": 1,
      "metadata": {
        "colab": {
          "base_uri": "https://localhost:8080/"
        },
        "id": "prs_xHLuP4K6",
        "outputId": "d0cb2ce9-ccd0-426a-eb31-370aeb46ff43"
      },
      "outputs": [
        {
          "output_type": "stream",
          "name": "stdout",
          "text": [
            "Ad$ Profit\n",
            "0 $200.0\n",
            "25 $275.0\n",
            "50 $290.0\n",
            "75 $305.0\n",
            "100 $300.0\n",
            "125 $295.0\n",
            "150 $290.0\n",
            "175 $285.0\n",
            "200 $280.0\n"
          ]
        }
      ],
      "source": [
        "print (f'Ad$ Profit')\n",
        "\n",
        "init_attendees = 20\n",
        "fixed_cost = 200\n",
        "\n",
        "for advertising in range (0,201,25):\n",
        "  attendees = float(2 * round(advertising**0.5+init_attendees))\n",
        "  profit = float ((attendees * 10)-advertising-fixed_cost)\n",
        "  print (f'{advertising} ${profit}')"
      ]
    }
  ]
}