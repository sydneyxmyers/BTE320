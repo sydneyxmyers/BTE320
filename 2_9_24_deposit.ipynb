{
  "nbformat": 4,
  "nbformat_minor": 0,
  "metadata": {
    "colab": {
      "provenance": [],
      "authorship_tag": "ABX9TyM92teZX1L5SpK/OgB6acrq",
      "include_colab_link": true
    },
    "kernelspec": {
      "name": "python3",
      "display_name": "Python 3"
    },
    "language_info": {
      "name": "python"
    }
  },
  "cells": [
    {
      "cell_type": "markdown",
      "metadata": {
        "id": "view-in-github",
        "colab_type": "text"
      },
      "source": [
        "<a href=\"https://colab.research.google.com/github/sydneyxmyers/BTE320/blob/main/2_9_24_deposit.ipynb\" target=\"_parent\"><img src=\"https://colab.research.google.com/assets/colab-badge.svg\" alt=\"Open In Colab\"/></a>"
      ]
    },
    {
      "cell_type": "code",
      "execution_count": null,
      "metadata": {
        "colab": {
          "base_uri": "https://localhost:8080/"
        },
        "id": "NHnwry508e3P",
        "outputId": "b0844024-17bd-416f-c8ea-a5ac231578a9"
      },
      "outputs": [
        {
          "output_type": "stream",
          "name": "stdout",
          "text": [
            "1\n",
            "2\n",
            "3\n",
            "4\n"
          ]
        }
      ],
      "source": [
        "i = 1\n",
        "n = 5\n",
        "while i<n:\n",
        "  print (i)\n",
        "  i=i+1\n",
        "\n"
      ]
    },
    {
      "cell_type": "code",
      "source": [
        "import random\n",
        "userinput=input('Do you want to play a game?(y/n)')\n",
        "while userinput==\"y\":\n",
        "  userinput= input('Lets play rock, paper, scissors , Enter your choice..')\n",
        "  pcinput= random.choice([\"rock,\"\"paper\",\"scissors\"])\n",
        "  print(pcinput)\n",
        "  if pcinput==userinput:\n",
        "    print('Tie')\n",
        "  elif pcinput== 'rock' and userinput == 'scissors' or pcinput== 'paper' and userinput== 'rock' or pcinput == 'scissors'and userinput=='paper':\n",
        "    print('PC Wins')\n",
        "  else:\n",
        "    print ('User Wins')\n",
        "  userinput=input('Want to play again, (y/n)?')"
      ],
      "metadata": {
        "colab": {
          "base_uri": "https://localhost:8080/"
        },
        "id": "8iJojud79od4",
        "outputId": "e74bced7-bae0-4633-f5d2-c7e26b0b3f0d"
      },
      "execution_count": null,
      "outputs": [
        {
          "name": "stdout",
          "output_type": "stream",
          "text": [
            "Do you want to play a game?(y/n)y\n",
            "Lets play rock, paper, scissors , Enter your choice..rock\n",
            "scissors\n",
            "User Wins\n",
            "Want to play again, (y/n)?y\n",
            "Lets play rock, paper, scissors , Enter your choice..paper\n",
            "scissors\n",
            "PC Wins\n",
            "Want to play again, (y/n)?n\n"
          ]
        }
      ]
    },
    {
      "cell_type": "code",
      "source": [
        "down=100000\n",
        "deposit=10000\n",
        "increment=5000\n",
        "nmonths=0\n",
        "while deposit<=down:\n",
        "  deposit=deposit+increment\n",
        "  nmonths=nmonths+1\n",
        "  print(f'M: {nmonths} A: {deposit}')\n"
      ],
      "metadata": {
        "id": "nwEgdmZ7BNqn",
        "colab": {
          "base_uri": "https://localhost:8080/"
        },
        "outputId": "8ad67525-31a1-433e-8c37-6308b5fa2935"
      },
      "execution_count": null,
      "outputs": [
        {
          "output_type": "stream",
          "name": "stdout",
          "text": [
            "M: 1 A: 15000\n",
            "M: 2 A: 20000\n",
            "M: 3 A: 25000\n",
            "M: 4 A: 30000\n",
            "M: 5 A: 35000\n",
            "M: 6 A: 40000\n",
            "M: 7 A: 45000\n",
            "M: 8 A: 50000\n",
            "M: 9 A: 55000\n",
            "M: 10 A: 60000\n",
            "M: 11 A: 65000\n",
            "M: 12 A: 70000\n",
            "M: 13 A: 75000\n",
            "M: 14 A: 80000\n",
            "M: 15 A: 85000\n",
            "M: 16 A: 90000\n",
            "M: 17 A: 95000\n",
            "M: 18 A: 100000\n",
            "M: 19 A: 105000\n"
          ]
        }
      ]
    }
  ]
}