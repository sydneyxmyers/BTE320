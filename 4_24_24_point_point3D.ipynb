{
  "nbformat": 4,
  "nbformat_minor": 0,
  "metadata": {
    "colab": {
      "provenance": [],
      "authorship_tag": "ABX9TyOBgx/oLGvv2hmvCWZrU11x",
      "include_colab_link": true
    },
    "kernelspec": {
      "name": "python3",
      "display_name": "Python 3"
    },
    "language_info": {
      "name": "python"
    }
  },
  "cells": [
    {
      "cell_type": "markdown",
      "metadata": {
        "id": "view-in-github",
        "colab_type": "text"
      },
      "source": [
        "<a href=\"https://colab.research.google.com/github/sydneyxmyers/BTE320/blob/main/4_24_24_point_point3D.ipynb\" target=\"_parent\"><img src=\"https://colab.research.google.com/assets/colab-badge.svg\" alt=\"Open In Colab\"/></a>"
      ]
    },
    {
      "cell_type": "code",
      "execution_count": null,
      "metadata": {
        "colab": {
          "base_uri": "https://localhost:8080/"
        },
        "id": "Mt6DQY2N7Kq_",
        "outputId": "1bc3f22f-2a88-4e0b-c36c-b80e9db34032"
      },
      "outputs": [
        {
          "output_type": "stream",
          "name": "stdout",
          "text": [
            "5.0\n",
            "1.1791476456813665\n"
          ]
        }
      ],
      "source": [
        "class Point:\n",
        "  def __init__(self, x,y):\n",
        "    self.x = x\n",
        "    self.y = y\n",
        "\n",
        "  def getDistance(self, other):\n",
        "    x_diff = (self.x - other.x)**2\n",
        "    y_diff = (self.y - other.y)**2\n",
        "    return (x_diff + y_diff) ** 0.5\n",
        "\n",
        "class Point3D(Point):\n",
        "  def __init__(self,x,y,z):\n",
        "    super().__init__(x,y)\n",
        "    self.z= z\n",
        "\n",
        "  def getGistance(self,other):\n",
        "    x_diff = (self.x-other.x) **2\n",
        "    y_diff= (self.y-other.y)**2\n",
        "    z_diff = (self.z-other.z) **2\n",
        "    return (x_diff +y_diff + z_diff) ** 0.05\n",
        "\n",
        "\n",
        "\n",
        "\n",
        "\n",
        "p1= Point(3,4)\n",
        "p2= Point(6,8)\n",
        "print (p1.distance(p2))\n",
        "p3d_1= Point3D(1,2,3)\n",
        "p3d_2= Point3D(4,5,6)\n",
        "print(p3d_2.distance(p3d_1))\n"
      ]
    },
    {
      "cell_type": "code",
      "source": [
        "class Animal:\n",
        "  def __init__(self):\n",
        "    print('animal created')\n",
        "  def whoAmI(self):\n",
        "    print ('i am an animal')\n",
        "\n",
        "class Bird(Animal):\n",
        "  def __init__(self,legs,wings):\n",
        "    print ('bird created')\n",
        "    super().__init__(legs)\n",
        "    self.wings = wings\n",
        "  def fly(self):\n",
        "    print ('birds can fly')\n",
        "\n",
        "a = Animal(4)\n",
        "b = Bird(2,2)\n"
      ],
      "metadata": {
        "id": "eZxbwIz999TI"
      },
      "execution_count": null,
      "outputs": []
    }
  ]
}