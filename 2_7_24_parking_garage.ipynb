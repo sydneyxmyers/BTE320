{
  "nbformat": 4,
  "nbformat_minor": 0,
  "metadata": {
    "colab": {
      "provenance": [],
      "authorship_tag": "ABX9TyPtFPQBo1mad3BT5X8Jf4k6",
      "include_colab_link": true
    },
    "kernelspec": {
      "name": "python3",
      "display_name": "Python 3"
    },
    "language_info": {
      "name": "python"
    }
  },
  "cells": [
    {
      "cell_type": "markdown",
      "metadata": {
        "id": "view-in-github",
        "colab_type": "text"
      },
      "source": [
        "<a href=\"https://colab.research.google.com/github/sydneyxmyers/BTE320/blob/main/2_7_24_parking_garage.ipynb\" target=\"_parent\"><img src=\"https://colab.research.google.com/assets/colab-badge.svg\" alt=\"Open In Colab\"/></a>"
      ]
    },
    {
      "cell_type": "code",
      "execution_count": null,
      "metadata": {
        "colab": {
          "base_uri": "https://localhost:8080/"
        },
        "id": "v9IrE6cUmDur",
        "outputId": "ae59a61c-ee90-42b3-87a7-d6f413ef51e3"
      },
      "outputs": [
        {
          "output_type": "stream",
          "name": "stdout",
          "text": [
            "1 $10\n",
            "2 $10\n",
            "3 $12.5\n",
            "4 $15.0\n",
            "5 $17.5\n",
            "6 $20\n",
            "7 $20\n",
            "8 $20\n"
          ]
        }
      ],
      "source": [
        "\n",
        "for hour in range (1,9,1):\n",
        "  fee = 5+2.5*hour\n",
        "  if fee <= 10:\n",
        "    fee =10\n",
        "  elif fee >=20:\n",
        "    fee= 20\n",
        "\n",
        "  print(f'{hour} ${fee}')\n"
      ]
    }
  ]
}