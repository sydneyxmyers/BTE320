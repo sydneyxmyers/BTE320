{
  "nbformat": 4,
  "nbformat_minor": 0,
  "metadata": {
    "colab": {
      "provenance": [],
      "authorship_tag": "ABX9TyNnduQ3cOTeOjgsQZbHpWkV",
      "include_colab_link": true
    },
    "kernelspec": {
      "name": "python3",
      "display_name": "Python 3"
    },
    "language_info": {
      "name": "python"
    }
  },
  "cells": [
    {
      "cell_type": "markdown",
      "metadata": {
        "id": "view-in-github",
        "colab_type": "text"
      },
      "source": [
        "<a href=\"https://colab.research.google.com/github/sydneyxmyers/BTE320/blob/main/2_21_24_Date_Assignment.ipynb\" target=\"_parent\"><img src=\"https://colab.research.google.com/assets/colab-badge.svg\" alt=\"Open In Colab\"/></a>"
      ]
    },
    {
      "cell_type": "code",
      "execution_count": 3,
      "metadata": {
        "colab": {
          "base_uri": "https://localhost:8080/"
        },
        "id": "c92r5Z7Iw5pb",
        "outputId": "46af9033-efa6-4be2-861a-2b6eb2f28780"
      },
      "outputs": [
        {
          "output_type": "stream",
          "name": "stdout",
          "text": [
            "Enter date [mm/dd/yyyy]: 03/14/2004\n",
            "03/14/2004\n",
            "03\n",
            "14\n",
            "2004\n"
          ]
        }
      ],
      "source": [
        "user=str(input('Enter date [mm/dd/yyyy]: '))\n",
        "print(user)\n",
        "month=user[0:2]\n",
        "print(month)\n",
        "day=user[3:5]\n",
        "print(day)\n",
        "year=user[6:len(user)]\n",
        "print(year)"
      ]
    }
  ]
}