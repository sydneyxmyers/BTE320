{
  "cells": [
    {
      "cell_type": "markdown",
      "metadata": {
        "id": "view-in-github",
        "colab_type": "text"
      },
      "source": [
        "<a href=\"https://colab.research.google.com/github/sydneyxmyers/BTE320/blob/main/2_12_24_Calculator.ipynb\" target=\"_parent\"><img src=\"https://colab.research.google.com/assets/colab-badge.svg\" alt=\"Open In Colab\"/></a>"
      ]
    },
    {
      "cell_type": "code",
      "execution_count": null,
      "metadata": {
        "colab": {
          "background_save": true,
          "base_uri": "https://localhost:8080/"
        },
        "id": "WT-vscuIeGFw",
        "outputId": "e333c6db-54c7-4602-9f38-58dc68485e9d"
      },
      "outputs": [
        {
          "name": "stdout",
          "output_type": "stream",
          "text": [
            "Welcome to your personal calculator\n",
            "35\n",
            "result:  28.0\n",
            "Welcome to your personal calculator\n"
          ]
        }
      ],
      "source": [
        "while True:\n",
        "  print('Welcome to your personal calculator')\n",
        "  userinput1=float(input('enter your first number'))\n",
        "  userinput2=float(input('enter your second number'))\n",
        "  userinput3=(str(input('enter sign')))\n",
        "  if userinput3== '+':\n",
        "    print(f'{userinput1} + {userinput2} ={userinput1+userinput2}')\n",
        "  elif userinput3== '-':\n",
        "    print(f'{userinput1}-{userinput2}={userinput1-userinput2}')\n",
        "  elif userinput3=='*':\n",
        "    print(userinput1*userinput2)\n",
        "  elif userinput3=='**':\n",
        "    print(userinput1**userinput2)\n",
        "  elif userinput3=='/':\n",
        "    print(userinput1/userinput2)\n",
        "  elif userinput3=='%':\n",
        "    print(userinput1%userinput2)\n",
        "  elif userinput3=='break':\n",
        "    break\n",
        "  else:\n",
        "    print ('invalid operator: ', userinput3)\n",
        "    continue\n",
        "  print ('result: ', answer)\n",
        "\n",
        "\n",
        "\n",
        "\n"
      ]
    },
    {
      "cell_type": "code",
      "execution_count": null,
      "metadata": {
        "id": "jArlwnQepuxG"
      },
      "outputs": [],
      "source": [
        "while True:\n",
        "  print('Welcome to the calcy calc')\n",
        "  num1 = float(input('enter first number: '))\n",
        "  num2 = float(input('enter second number: '))\n",
        "  operator = (input('enter the sign'))\n",
        "\n",
        "  if operator == 'break':\n",
        "    break\n",
        "\n",
        "  if operator == '+':\n",
        "    answer = num1 + num2\n",
        "  elif operator == '-':\n",
        "    answer = num1 - num2\n",
        "  elif operator == '*':\n",
        "    answer = num1 * num2\n",
        "  elif operator == '/':\n",
        "    answer = num1 / num2\n",
        "  elif operator == '//':\n",
        "    answer = num1 // num2\n",
        "  elif operator == '**':\n",
        "    answer = num1 ** num2\n",
        "  elif operator == '%':\n",
        "    answer = num1 % num2\n",
        "  else:\n",
        "    print('invalid operator:', operator)\n",
        "    continue\n",
        "\n",
        "  print('result: ', answer)"
      ]
    }
  ],
  "metadata": {
    "colab": {
      "provenance": [],
      "authorship_tag": "ABX9TyPkk4jp74RLLzpgAnUZHao1",
      "include_colab_link": true
    },
    "kernelspec": {
      "display_name": "Python 3",
      "name": "python3"
    },
    "language_info": {
      "name": "python"
    }
  },
  "nbformat": 4,
  "nbformat_minor": 0
}