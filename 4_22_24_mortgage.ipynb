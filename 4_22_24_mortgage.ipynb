{
  "nbformat": 4,
  "nbformat_minor": 0,
  "metadata": {
    "colab": {
      "provenance": [],
      "authorship_tag": "ABX9TyNb1RcVRNWiryr0BV9Z7X6Q",
      "include_colab_link": true
    },
    "kernelspec": {
      "name": "python3",
      "display_name": "Python 3"
    },
    "language_info": {
      "name": "python"
    }
  },
  "cells": [
    {
      "cell_type": "markdown",
      "metadata": {
        "id": "view-in-github",
        "colab_type": "text"
      },
      "source": [
        "<a href=\"https://colab.research.google.com/github/sydneyxmyers/BTE320/blob/main/4_22_24_mortgage.ipynb\" target=\"_parent\"><img src=\"https://colab.research.google.com/assets/colab-badge.svg\" alt=\"Open In Colab\"/></a>"
      ]
    },
    {
      "cell_type": "code",
      "execution_count": null,
      "metadata": {
        "id": "rFa-kAMpooto"
      },
      "outputs": [],
      "source": [
        "class A:\n",
        "  def __init__(self,obj):\n",
        "    self.obj=obj\n",
        "\n",
        "  def whoAmI(self):\n",
        "    print ('i am an instance of class A')\n",
        "\n",
        "  def __str__(self):\n",
        "    return f\"<attrubute value: {self.obj}>\"\n",
        "\n",
        "  def __eq__(self,other):\n",
        "    return self.obj == other.obj\n",
        "\n",
        "  def __add__(self,other):\n",
        "    return self.obj + other.obj\n",
        "\n",
        "class B:\n",
        "  def __init__ (self,obj):\n",
        "    self.obj=obj\n",
        "\n",
        "  def whoAmI(self):\n",
        "    print('i am an instance of class B')\n",
        "\n",
        "a1= A(2)\n",
        "a2= A(5)\n",
        "b= B(4)"
      ]
    },
    {
      "cell_type": "code",
      "source": [
        "b.whoAmI()"
      ],
      "metadata": {
        "colab": {
          "base_uri": "https://localhost:8080/"
        },
        "id": "9VFYPQrEpRFg",
        "outputId": "a50c7e10-5ec0-4d3c-cb3b-5fc23c6d208d"
      },
      "execution_count": null,
      "outputs": [
        {
          "output_type": "stream",
          "name": "stdout",
          "text": [
            "i am an instance of class B\n"
          ]
        }
      ]
    },
    {
      "cell_type": "code",
      "source": [
        "print (a)\n"
      ],
      "metadata": {
        "colab": {
          "base_uri": "https://localhost:8080/"
        },
        "id": "LYUeyq23pa4E",
        "outputId": "bcf3ef3d-7c32-4b67-f972-b27f6931c0c2"
      },
      "execution_count": null,
      "outputs": [
        {
          "output_type": "stream",
          "name": "stdout",
          "text": [
            "<attrubute value: 2>\n"
          ]
        }
      ]
    },
    {
      "cell_type": "code",
      "source": [
        "a1 + a2"
      ],
      "metadata": {
        "colab": {
          "base_uri": "https://localhost:8080/"
        },
        "id": "1a7DMoNiuVIL",
        "outputId": "87e34f64-eb09-4c46-84c4-0a5ee2e80f5e"
      },
      "execution_count": null,
      "outputs": [
        {
          "output_type": "execute_result",
          "data": {
            "text/plain": [
              "7"
            ]
          },
          "metadata": {},
          "execution_count": 6
        }
      ]
    },
    {
      "cell_type": "code",
      "source": [
        "class Mortgage:\n",
        "  def __init__(self, amount, maturity, interest):\n",
        "    self.amount = amount\n",
        "    self.maturity = maturity\n",
        "    self.__interest = interest\n",
        "\n",
        "  def __str__(self):  #create a string to make the data WE receive\n",
        "    return f'Mortgage info\\n Initial loan amount: {self.amount}\\n Maturity term: {self.maturity}\\n Interest rate: {self.__interest}'\n",
        "\n",
        "  def get_interest(self):\n",
        "    return self.__interest\n",
        "\n",
        "  def set_interest(self, newInterest):\n",
        "    if newInterest >= 0:\n",
        "      self.__interest = newInterest\n",
        "    else:\n",
        "      print ('Interest must be non-negative! ')\n",
        "\n",
        "  def payment (self):\n",
        "    B = self.amount\n",
        "    n = self.maturity * 12\n",
        "    r = self.__interest / 100\n",
        "\n",
        "    return B * (r * (1+r)**n)/((1+r)** n-1)\n",
        "\n",
        "\n"
      ],
      "metadata": {
        "id": "iemZ-Ysgw8AX"
      },
      "execution_count": null,
      "outputs": []
    },
    {
      "cell_type": "code",
      "source": [
        "m = Mortgage(10000, 30,6)"
      ],
      "metadata": {
        "id": "keqcg1JPknDf"
      },
      "execution_count": null,
      "outputs": []
    },
    {
      "cell_type": "code",
      "source": [
        "print (m)"
      ],
      "metadata": {
        "id": "iV6WbGXPkxze",
        "outputId": "f12511dc-f690-4605-d6a5-d636043cf257",
        "colab": {
          "base_uri": "https://localhost:8080/"
        }
      },
      "execution_count": null,
      "outputs": [
        {
          "output_type": "stream",
          "name": "stdout",
          "text": [
            "Mortgage info\n",
            " Initial loan amount: 10000\n",
            " Maturity term: 30\n",
            " Interest rate: 6\n"
          ]
        }
      ]
    }
  ]
}