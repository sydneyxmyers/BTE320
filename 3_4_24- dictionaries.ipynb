{
  "nbformat": 4,
  "nbformat_minor": 0,
  "metadata": {
    "colab": {
      "provenance": [],
      "authorship_tag": "ABX9TyPahTW28bQtmt/5AxT1L5j0",
      "include_colab_link": true
    },
    "kernelspec": {
      "name": "python3",
      "display_name": "Python 3"
    },
    "language_info": {
      "name": "python"
    }
  },
  "cells": [
    {
      "cell_type": "markdown",
      "metadata": {
        "id": "view-in-github",
        "colab_type": "text"
      },
      "source": [
        "<a href=\"https://colab.research.google.com/github/sydneyxmyers/BTE320/blob/main/3_4_24-%20dictionaries.ipynb\" target=\"_parent\"><img src=\"https://colab.research.google.com/assets/colab-badge.svg\" alt=\"Open In Colab\"/></a>"
      ]
    },
    {
      "cell_type": "code",
      "execution_count": 1,
      "metadata": {
        "id": "JMdX0yjZfLXq"
      },
      "outputs": [],
      "source": [
        "grades = {'Alice': 91,'Bob': 88,'Tracy': 93,'Erik':90}"
      ]
    },
    {
      "cell_type": "code",
      "source": [
        "for key in grades.keys():\n",
        "  print(key)"
      ],
      "metadata": {
        "colab": {
          "base_uri": "https://localhost:8080/"
        },
        "id": "VVRis30Zhpgg",
        "outputId": "3a467bae-c072-4a76-e949-0ebe90078dde"
      },
      "execution_count": null,
      "outputs": [
        {
          "output_type": "stream",
          "name": "stdout",
          "text": [
            "Alice\n",
            "Bob\n",
            "Tracy\n",
            "Erik\n"
          ]
        }
      ]
    },
    {
      "cell_type": "code",
      "source": [
        "for value in grades.values():\n",
        "  print(value)\n"
      ],
      "metadata": {
        "colab": {
          "base_uri": "https://localhost:8080/"
        },
        "id": "g3RQrrvcirLy",
        "outputId": "2c08d577-ddee-4074-f9c7-8971d48c2e0a"
      },
      "execution_count": null,
      "outputs": [
        {
          "output_type": "stream",
          "name": "stdout",
          "text": [
            "91\n",
            "88\n",
            "93\n",
            "90\n"
          ]
        }
      ]
    },
    {
      "cell_type": "code",
      "source": [
        "for key, value in grades.items():\n",
        "  print(key,value)"
      ],
      "metadata": {
        "colab": {
          "base_uri": "https://localhost:8080/"
        },
        "id": "D63HmPHGjdgt",
        "outputId": "3ef7ce0a-fe65-49d2-f39d-bf267014ee0d"
      },
      "execution_count": null,
      "outputs": [
        {
          "output_type": "stream",
          "name": "stdout",
          "text": [
            "Alice 91\n",
            "Bob 88\n",
            "Tracy 93\n",
            "Erik 90\n"
          ]
        }
      ]
    },
    {
      "cell_type": "code",
      "source": [
        "months = {1:\"January\", 2:\"Febuary\", 3: \"March\"}\n",
        "print (f'The first month in a year is {months[1]}')"
      ],
      "metadata": {
        "colab": {
          "base_uri": "https://localhost:8080/"
        },
        "id": "r9TpnSnIk0vi",
        "outputId": "dbaf21a5-6e44-47be-d5e4-50a6161dc23b"
      },
      "execution_count": 4,
      "outputs": [
        {
          "output_type": "stream",
          "name": "stdout",
          "text": [
            "The first month in a year is January\n"
          ]
        }
      ]
    },
    {
      "cell_type": "code",
      "source": [
        "months = [\"january\", \"february\", \"march\", \"apr\", \"may\"]\n",
        "print(f'The first month in a year is {months[0]}')"
      ],
      "metadata": {
        "colab": {
          "base_uri": "https://localhost:8080/"
        },
        "id": "_tJliqPScHV8",
        "outputId": "005962c7-98ef-4dfe-b362-3c3a12b23b2d"
      },
      "execution_count": 15,
      "outputs": [
        {
          "output_type": "stream",
          "name": "stdout",
          "text": [
            "The first month in a year is january\n"
          ]
        }
      ]
    },
    {
      "cell_type": "code",
      "source": [
        "months ={}\n",
        "numbers = [1,2,3,4,5,6,7,8,9,10,11,12]\n",
        "names = [\"Jan\",\"Feb\",\"Mar\",\"Apr\",\"May\",\"Jun\",\"Jul\",\"Aug\",\"Sept\",\"Oct\",\"Nov\",\"Dec\",]\n"
      ],
      "metadata": {
        "id": "gscaabLemLhx"
      },
      "execution_count": null,
      "outputs": []
    },
    {
      "cell_type": "code",
      "source": [
        "for pairs in numbers:\n",
        "  months[pairs]=names[pairs-1]\n",
        "print (months)"
      ],
      "metadata": {
        "colab": {
          "base_uri": "https://localhost:8080/"
        },
        "id": "Uu8W049WqL42",
        "outputId": "8344536d-a845-4d4a-d1b7-ee2cfdc0e5bd"
      },
      "execution_count": null,
      "outputs": [
        {
          "output_type": "stream",
          "name": "stdout",
          "text": [
            "{0: 'Jan', 1: 'Jan', 2: 'Feb', 3: 'Mar', 4: 'Apr', 5: 'May', 6: 'Jun', 7: 'Jul', 8: 'Aug', 9: 'Sept', 10: 'Oct', 11: 'Nov', 12: 'Dec'}\n"
          ]
        }
      ]
    },
    {
      "cell_type": "code",
      "source": [
        "for pairs in range(1,13,1):\n",
        "  months[pairs]=names [pairs-1]\n",
        "print (months)\n"
      ],
      "metadata": {
        "colab": {
          "base_uri": "https://localhost:8080/"
        },
        "id": "tkAlXlS1mzEX",
        "outputId": "239baf93-926a-4c36-dc4b-8825ca98e413"
      },
      "execution_count": null,
      "outputs": [
        {
          "output_type": "stream",
          "name": "stdout",
          "text": [
            "{0: 'Jan', 1: 'Jan', 2: 'Feb', 3: 'Mar', 4: 'Apr', 5: 'May', 6: 'Jun', 7: 'Jul', 8: 'Aug', 9: 'Sept', 10: 'Oct', 11: 'Nov', 12: 'Dec'}\n"
          ]
        }
      ]
    },
    {
      "cell_type": "code",
      "source": [
        "bte = {}\n",
        "bte['water'] = 'emily'\n",
        "bte['notebook'] = 'pencil'\n",
        "print(bte)"
      ],
      "metadata": {
        "colab": {
          "base_uri": "https://localhost:8080/"
        },
        "id": "nPzL6sG4eYJX",
        "outputId": "2f5b7caf-1c0c-44a2-a899-0f066be2f171"
      },
      "execution_count": 17,
      "outputs": [
        {
          "output_type": "stream",
          "name": "stdout",
          "text": [
            "{'water': 'emily', 'notebook': 'pencil'}\n"
          ]
        }
      ]
    },
    {
      "cell_type": "code",
      "source": [
        "activity= [\"jetski\", \"sky dive\", \"go kart\", \"atvs\"]\n",
        "birthday = {}\n",
        "for i in range (0,4,1):\n",
        "  birthday[i]= activity[i]\n",
        "print(birthday)\n",
        "\n",
        "\n",
        "\n",
        "\n"
      ],
      "metadata": {
        "colab": {
          "base_uri": "https://localhost:8080/"
        },
        "id": "Vw-ukhe3e56L",
        "outputId": "a44a5a91-dcc7-4b5b-f51c-1045bf531efd"
      },
      "execution_count": 19,
      "outputs": [
        {
          "output_type": "stream",
          "name": "stdout",
          "text": [
            "{0: 'jetski', 1: 'sky dive', 2: 'go kart', 3: 'atvs'}\n"
          ]
        }
      ]
    },
    {
      "cell_type": "code",
      "source": [
        "activity = [\"jetski\", \"sky dive\", \"pool\", \"beach\", \"atvs\"]\n",
        "birthday= {}\n",
        "for i in range (0,5,1):\n",
        "  birthday[i]=activity[i]\n",
        "print(birthday)\n"
      ],
      "metadata": {
        "colab": {
          "base_uri": "https://localhost:8080/"
        },
        "id": "n4IGcUtxgsN-",
        "outputId": "f9fef95f-65ff-4f2c-91ef-e18ba8f4ffdb"
      },
      "execution_count": 29,
      "outputs": [
        {
          "output_type": "stream",
          "name": "stdout",
          "text": [
            "{0: 'jetski', 1: 'sky dive', 2: 'pool', 3: 'beach', 4: 'atvs'}\n"
          ]
        }
      ]
    }
  ]
}