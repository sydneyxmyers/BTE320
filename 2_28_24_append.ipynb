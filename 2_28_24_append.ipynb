{
  "nbformat": 4,
  "nbformat_minor": 0,
  "metadata": {
    "colab": {
      "provenance": [],
      "authorship_tag": "ABX9TyMPLPDCOBuAZbXWjLjRPKL4",
      "include_colab_link": true
    },
    "kernelspec": {
      "name": "python3",
      "display_name": "Python 3"
    },
    "language_info": {
      "name": "python"
    }
  },
  "cells": [
    {
      "cell_type": "markdown",
      "metadata": {
        "id": "view-in-github",
        "colab_type": "text"
      },
      "source": [
        "<a href=\"https://colab.research.google.com/github/sydneyxmyers/BTE320/blob/main/2_28_24_append.ipynb\" target=\"_parent\"><img src=\"https://colab.research.google.com/assets/colab-badge.svg\" alt=\"Open In Colab\"/></a>"
      ]
    },
    {
      "cell_type": "code",
      "execution_count": 1,
      "metadata": {
        "id": "YhUSrxH3xAv_"
      },
      "outputs": [],
      "source": [
        "L=[1,'two',3.0,print,[5,7,9]]"
      ]
    },
    {
      "cell_type": "code",
      "source": [
        "L+['three']"
      ],
      "metadata": {
        "colab": {
          "base_uri": "https://localhost:8080/"
        },
        "id": "rIoLbUHSyBdt",
        "outputId": "518682e0-6f22-4fda-fff1-676c31e83d30"
      },
      "execution_count": 2,
      "outputs": [
        {
          "output_type": "execute_result",
          "data": {
            "text/plain": [
              "[1, 'two', 3.0, <function print>, [5, 7, 9], 'three']"
            ]
          },
          "metadata": {},
          "execution_count": 2
        }
      ]
    },
    {
      "cell_type": "code",
      "source": [
        "L.append(['three',4])\n",
        "L"
      ],
      "metadata": {
        "colab": {
          "base_uri": "https://localhost:8080/"
        },
        "id": "iVj1wKUayGES",
        "outputId": "a8927503-5c63-4143-8f2e-5863f3d34642"
      },
      "execution_count": 10,
      "outputs": [
        {
          "output_type": "execute_result",
          "data": {
            "text/plain": [
              "[1,\n",
              " 'two',\n",
              " 3.0,\n",
              " <function print>,\n",
              " [5, 7, 9],\n",
              " ['three', 4],\n",
              " ['three', 4],\n",
              " ['three', 4],\n",
              " 'three',\n",
              " 4,\n",
              " 'three',\n",
              " 4,\n",
              " 'three',\n",
              " 4,\n",
              " ['three', 4],\n",
              " ['three', 4]]"
            ]
          },
          "metadata": {},
          "execution_count": 10
        }
      ]
    },
    {
      "cell_type": "code",
      "source": [
        "L.extend(['three',4])\n",
        "L"
      ],
      "metadata": {
        "colab": {
          "base_uri": "https://localhost:8080/"
        },
        "id": "0oiHG5cLyilZ",
        "outputId": "8ad5ae85-ef8a-4111-f32b-d3065855a7af"
      },
      "execution_count": 14,
      "outputs": [
        {
          "output_type": "execute_result",
          "data": {
            "text/plain": [
              "[1,\n",
              " 'two',\n",
              " 3.0,\n",
              " <function print>,\n",
              " [5, 7, 9],\n",
              " ['three', 4],\n",
              " ['three', 4],\n",
              " ['three', 4],\n",
              " 'three',\n",
              " 4,\n",
              " 'three',\n",
              " 4,\n",
              " 'three',\n",
              " 4,\n",
              " ['three', 4],\n",
              " ['three', 4],\n",
              " 'three',\n",
              " 4,\n",
              " 'three',\n",
              " 4,\n",
              " 'three',\n",
              " 4,\n",
              " 'three',\n",
              " 4]"
            ]
          },
          "metadata": {},
          "execution_count": 14
        }
      ]
    },
    {
      "cell_type": "code",
      "source": [
        "L.pop()\n",
        "L"
      ],
      "metadata": {
        "colab": {
          "base_uri": "https://localhost:8080/"
        },
        "id": "DzfGqi7MzfdC",
        "outputId": "f5ba9df4-ab92-4ab5-d997-7d98b235ed41"
      },
      "execution_count": 18,
      "outputs": [
        {
          "output_type": "execute_result",
          "data": {
            "text/plain": [
              "[1,\n",
              " 'two',\n",
              " <function print>,\n",
              " [5, 7, 9],\n",
              " ['three', 4],\n",
              " ['three', 4],\n",
              " ['three', 4],\n",
              " 'three',\n",
              " 4,\n",
              " 'three',\n",
              " 4,\n",
              " 'three',\n",
              " 4,\n",
              " ['three', 4],\n",
              " ['three', 4],\n",
              " 'three',\n",
              " 4,\n",
              " 'three',\n",
              " 4,\n",
              " 'three',\n",
              " 4,\n",
              " 'three']"
            ]
          },
          "metadata": {},
          "execution_count": 18
        }
      ]
    },
    {
      "cell_type": "code",
      "source": [
        "L.pop(2)\n",
        "L"
      ],
      "metadata": {
        "colab": {
          "base_uri": "https://localhost:8080/"
        },
        "id": "ntMBomMvzxyj",
        "outputId": "5fa1ec73-f113-487d-9d4a-aa143b658321"
      },
      "execution_count": 19,
      "outputs": [
        {
          "output_type": "execute_result",
          "data": {
            "text/plain": [
              "[1,\n",
              " 'two',\n",
              " [5, 7, 9],\n",
              " ['three', 4],\n",
              " ['three', 4],\n",
              " ['three', 4],\n",
              " 'three',\n",
              " 4,\n",
              " 'three',\n",
              " 4,\n",
              " 'three',\n",
              " 4,\n",
              " ['three', 4],\n",
              " ['three', 4],\n",
              " 'three',\n",
              " 4,\n",
              " 'three',\n",
              " 4,\n",
              " 'three',\n",
              " 4,\n",
              " 'three']"
            ]
          },
          "metadata": {},
          "execution_count": 19
        }
      ]
    },
    {
      "cell_type": "code",
      "source": [
        "L=[]\n",
        "number = int(input('enter value:'))\n",
        "while number != 0:\n",
        "  L.append(number)\n",
        "  number = int(input('enter value:'))\n",
        "print(L)\n",
        "\n",
        "\n",
        "\n",
        "\n"
      ],
      "metadata": {
        "colab": {
          "base_uri": "https://localhost:8080/"
        },
        "id": "iKOmYzBGz4Gk",
        "outputId": "ad3c62e3-b8e8-4231-bc02-bb8a21c1a35d"
      },
      "execution_count": 28,
      "outputs": [
        {
          "output_type": "stream",
          "name": "stdout",
          "text": [
            "enter value:3\n",
            "enter value:4\n",
            "enter value:6\n",
            "enter value:7\n",
            "enter value:3\n",
            "enter value:0\n",
            "[3, 4, 6, 7, 3]\n"
          ]
        }
      ]
    }
  ]
}