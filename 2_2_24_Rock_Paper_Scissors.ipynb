{
  "nbformat": 4,
  "nbformat_minor": 0,
  "metadata": {
    "colab": {
      "provenance": [],
      "authorship_tag": "ABX9TyMTFgOtQNUV1F1C6TMgpuqQ",
      "include_colab_link": true
    },
    "kernelspec": {
      "name": "python3",
      "display_name": "Python 3"
    },
    "language_info": {
      "name": "python"
    }
  },
  "cells": [
    {
      "cell_type": "markdown",
      "metadata": {
        "id": "view-in-github",
        "colab_type": "text"
      },
      "source": [
        "<a href=\"https://colab.research.google.com/github/sydneyxmyers/BTE320/blob/main/2_2_24_Rock_Paper_Scissors.ipynb\" target=\"_parent\"><img src=\"https://colab.research.google.com/assets/colab-badge.svg\" alt=\"Open In Colab\"/></a>"
      ]
    },
    {
      "cell_type": "code",
      "execution_count": null,
      "metadata": {
        "colab": {
          "base_uri": "https://localhost:8080/"
        },
        "id": "zc22_hoo3gfw",
        "outputId": "a3da6b29-48c1-4ac2-8c9c-833c9138bace"
      },
      "outputs": [
        {
          "output_type": "stream",
          "name": "stdout",
          "text": [
            "['Enter: rock, paper, or scissors']scissors\n",
            "paper\n",
            "SHOOT\n",
            "Tie\n"
          ]
        }
      ],
      "source": [
        "import random\n",
        "pc_choice= random.choice (['rock','paper','scissors'])\n",
        "user_choice= input(['Enter: rock, paper, or scissors'])\n",
        "print(pc_choice)\n",
        "if pc_choice == 'rock' and user_choice == 'paper':\n",
        "  print('User wins')\n",
        "elif pc_choice == 'rock' and user_choice == 'scissors':\n",
        "  print('PC wins')\n",
        "elif pc_choice == 'rock' and user_choice == 'rock':\n",
        "  print('Tie')\n",
        "elif pc_choice == 'paper' and user_choice == 'paper':\n",
        "  print('Tie')\n",
        "elif pc_choice == 'paper' and user_choice == 'scissor':\n",
        "  print('User wins')\n",
        "elif pc_choice == 'paper' and user_choice == 'rock':\n",
        "  print('PC wins')\n",
        "elif pc_choice == 'scissors' and user_choice == 'rock':\n",
        "  print('User wins')\n",
        "elif pc_choice == 'scissors' and user_choice == 'paper':\n",
        "  print('PC wins')\n",
        "else:\n",
        "  print('Tie')\n",
        "\n"
      ]
    },
    {
      "cell_type": "code",
      "source": [
        "import random\n",
        "pc_choice = random.choice (['rock', 'paper', 'scissors'])\n",
        "user_choice= input (['Enter: rock , paper, or scissors'])\n",
        "print(pc_choice)\n",
        "if pc_choice == user_choice:\n",
        "  print ('Tie')\n",
        "elif pc_choice == 'rock' and user_choice == 'scissors' or pc_choice == 'paper' and user_choice == 'rock' or pc_choice == 'scissors' and user_choice == 'paper':\n",
        "  print ('PC wins')\n",
        "else:\n",
        "  print ('User wins')"
      ],
      "metadata": {
        "colab": {
          "base_uri": "https://localhost:8080/"
        },
        "id": "mV7hVU869dJn",
        "outputId": "88c4ea71-938c-4755-cc30-4537c0affc24"
      },
      "execution_count": null,
      "outputs": [
        {
          "output_type": "stream",
          "name": "stdout",
          "text": [
            "['Enter: rock , paper, or scissors']rock\n",
            "paper\n",
            "PC wins\n"
          ]
        }
      ]
    }
  ]
}