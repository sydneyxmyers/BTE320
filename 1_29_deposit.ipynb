{
  "nbformat": 4,
  "nbformat_minor": 0,
  "metadata": {
    "colab": {
      "provenance": [],
      "authorship_tag": "ABX9TyPWRxY8dPQYC8Ve53UsM3je",
      "include_colab_link": true
    },
    "kernelspec": {
      "name": "python3",
      "display_name": "Python 3"
    },
    "language_info": {
      "name": "python"
    }
  },
  "cells": [
    {
      "cell_type": "markdown",
      "metadata": {
        "id": "view-in-github",
        "colab_type": "text"
      },
      "source": [
        "<a href=\"https://colab.research.google.com/github/sydneyxmyers/BTE320/blob/main/1_29_deposit.ipynb\" target=\"_parent\"><img src=\"https://colab.research.google.com/assets/colab-badge.svg\" alt=\"Open In Colab\"/></a>"
      ]
    },
    {
      "cell_type": "code",
      "execution_count": null,
      "metadata": {
        "colab": {
          "base_uri": "https://localhost:8080/"
        },
        "id": "hQejjZy5R9_Q",
        "outputId": "1018e05c-40f4-411b-e9e2-ead433908881"
      },
      "outputs": [
        {
          "output_type": "stream",
          "name": "stdout",
          "text": [
            "enter deposit amount:4000\n",
            "Deposit at the end of year: 4140.0\n"
          ]
        }
      ],
      "source": [
        "deposit = float(input(\"enter deposit amount:\"))\n",
        "if deposit > 1000:\n",
        "  ir = 3.5\n",
        "elif deposit < 1000:\n",
        "  ir = 3.0\n",
        "else:\n",
        "  ir = 3.25\n",
        "deposit_endofYear=(1+ir/100)* deposit\n",
        "print(f'Deposit at the end of year: {round (deposit_endofYear,2)}')"
      ]
    },
    {
      "cell_type": "code",
      "source": [
        "customer_type= input('Enter customer type(n: new, e: existing)')\n",
        "deposit = float (input(\"enter deposit amount:\"))\n",
        "if customer_type == 'n':\n",
        "  ir = 3.0\n",
        "else:\n",
        "  if deposit > 10000:\n",
        "    ir = 3.5\n",
        "  elif deposit > 1000:\n",
        "      ir = 3.25\n",
        "  else:\n",
        "      ir = 3.0\n",
        "\n",
        "total = (1+ ir/100) * deposit\n",
        "print (total)\n"
      ],
      "metadata": {
        "id": "h1PgWYVVY45R",
        "colab": {
          "base_uri": "https://localhost:8080/"
        },
        "outputId": "e5c0a06c-dff9-4532-ba40-574e86e40f2a"
      },
      "execution_count": null,
      "outputs": [
        {
          "output_type": "stream",
          "name": "stdout",
          "text": [
            "Enter customer type(n: new, e: existing)e\n",
            "enter deposit amount:1200\n",
            "1239.0\n"
          ]
        }
      ]
    }
  ]
}