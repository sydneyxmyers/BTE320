{
  "nbformat": 4,
  "nbformat_minor": 0,
  "metadata": {
    "colab": {
      "provenance": [],
      "authorship_tag": "ABX9TyOQAmlKOiK1A5u4OK/Hhksl",
      "include_colab_link": true
    },
    "kernelspec": {
      "name": "python3",
      "display_name": "Python 3"
    },
    "language_info": {
      "name": "python"
    }
  },
  "cells": [
    {
      "cell_type": "markdown",
      "metadata": {
        "id": "view-in-github",
        "colab_type": "text"
      },
      "source": [
        "<a href=\"https://colab.research.google.com/github/sydneyxmyers/BTE320/blob/main/4_10_24.ipynb\" target=\"_parent\"><img src=\"https://colab.research.google.com/assets/colab-badge.svg\" alt=\"Open In Colab\"/></a>"
      ]
    },
    {
      "cell_type": "code",
      "execution_count": 3,
      "metadata": {
        "colab": {
          "base_uri": "https://localhost:8080/"
        },
        "id": "BsYeAl2X2YrI",
        "outputId": "13d27cb0-2f00-446b-d7e6-8666d1a7129a"
      },
      "outputs": [
        {
          "output_type": "stream",
          "name": "stdout",
          "text": [
            "values must be numeric\n"
          ]
        },
        {
          "output_type": "execute_result",
          "data": {
            "text/plain": [
              "nan"
            ]
          },
          "metadata": {},
          "execution_count": 3
        }
      ],
      "source": [
        "import numpy as np\n",
        "\n",
        "\n",
        "def avg(alist):\n",
        "  try:\n",
        "    return sum (alist)/len(alist)\n",
        "  except ZeroDivisionError:\n",
        "    print('list is empty')\n",
        "    return []\n",
        "  except TypeError:\n",
        "    print('values must be numeric')\n",
        "    return float('nan')\n",
        "\n",
        "\n",
        "\n",
        "avg([1,'2',3])"
      ]
    },
    {
      "cell_type": "code",
      "source": [
        "I = [1,3,5,7,9]\n",
        "\n",
        "try:\n",
        "  idx = int(input('enter index'))\n",
        "  print (I[idx])\n",
        "except IndexError:\n",
        "  print ('index value out of bounds')\n",
        "except ValueError:\n",
        "  print('indexes must be int')\n",
        "else:\n",
        "  print('all good')\n",
        "finally:\n",
        "  print ('this will be displayed always') #regardless of an error , we will always have this function\n"
      ],
      "metadata": {
        "colab": {
          "base_uri": "https://localhost:8080/"
        },
        "id": "D6l_fAbp8mdJ",
        "outputId": "5bb3a3a2-aa9d-46dd-85d7-219a7f285f22"
      },
      "execution_count": 9,
      "outputs": [
        {
          "output_type": "stream",
          "name": "stdout",
          "text": [
            "enter indexasd\n",
            "indexes must be int\n",
            "this will be displayed always\n"
          ]
        }
      ]
    }
  ]
}