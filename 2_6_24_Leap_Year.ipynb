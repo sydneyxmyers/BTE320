{
  "nbformat": 4,
  "nbformat_minor": 0,
  "metadata": {
    "colab": {
      "provenance": [],
      "authorship_tag": "ABX9TyNhSbByoXBE3FIIsRxtBEce",
      "include_colab_link": true
    },
    "kernelspec": {
      "name": "python3",
      "display_name": "Python 3"
    },
    "language_info": {
      "name": "python"
    }
  },
  "cells": [
    {
      "cell_type": "markdown",
      "metadata": {
        "id": "view-in-github",
        "colab_type": "text"
      },
      "source": [
        "<a href=\"https://colab.research.google.com/github/sydneyxmyers/BTE320/blob/main/2_6_24_Leap_Year.ipynb\" target=\"_parent\"><img src=\"https://colab.research.google.com/assets/colab-badge.svg\" alt=\"Open In Colab\"/></a>"
      ]
    },
    {
      "cell_type": "code",
      "execution_count": null,
      "metadata": {
        "id": "NTLbXNLA1Y-Q"
      },
      "outputs": [],
      "source": [
        "year= int(input ('Enter a year:'))\n",
        "if year % 4==0 and year % 100 != 0 and year % 400==0:\n",
        "  print ('The year is a leap year (it has 366 days)')\n",
        "else:\n",
        "  print ('The year is not a leap year (it has 365 days)')\n"
      ]
    }
  ]
}